{
 "cells": [
  {
   "cell_type": "markdown",
   "metadata": {},
   "source": [
    "# Sweep over multiple training runs\n",
    "\n",
    "Use case: Multiple models need to be trained using the same training routine but different hyperparameters, settings, or datasets -- the classic use case is hyperparameter-tuning."
   ]
  },
  {
   "cell_type": "code",
   "execution_count": null,
   "metadata": {},
   "outputs": [],
   "source": [
    "import wandb\n",
    "from pinnsim.configurations.hyperparameter_configs import ieee9_machines\n",
    "from pinnsim.configurations.required_hyperparameters import (\n",
    "    check_required_config_keys,\n",
    ")\n",
    "from pinnsim import wandb_entity, wandb_project\n",
    "from pinnsim.learning_functions.workflow import train"
   ]
  },
  {
   "cell_type": "markdown",
   "metadata": {},
   "source": [
    "\n",
    "We first define a \"sweep\" that specifies the configuration files for the different runs. In this case, we want to train one model for each machine, hence the config parameter `generator_name` needs to be varied (see `ieee9_machines()`). The resulting sweep configuration is stored online and is associated with an ID in the WandB project that we can use to refer to the setup. "
   ]
  },
  {
   "cell_type": "code",
   "execution_count": null,
   "metadata": {},
   "outputs": [],
   "source": [
    "sweep_config = ieee9_machines()\n",
    "\n",
    "check_required_config_keys(sweep_config)\n",
    "\n",
    "sweep_id = wandb.sweep(\n",
    "    sweep_config,\n",
    "    entity=wandb_entity,\n",
    "    project=wandb_project,\n",
    ")"
   ]
  },
  {
   "cell_type": "markdown",
   "metadata": {},
   "source": [
    "Using this sweep ID, we can now call \"agents\" that will receive config files and then train the models accordingly. We can call mulitple agents and from different platforms, WandB takes care of the assignments and the logging. "
   ]
  },
  {
   "cell_type": "code",
   "execution_count": null,
   "metadata": {},
   "outputs": [],
   "source": [
    "wandb.agent(\n",
    "    sweep_id,\n",
    "    function=train,\n",
    "    entity=wandb_entity,\n",
    "    project=wandb_project,\n",
    ")"
   ]
  },
  {
   "cell_type": "markdown",
   "metadata": {},
   "source": [
    "For more information see [WandB](https://docs.wandb.ai/guides/sweeps)."
   ]
  }
 ],
 "metadata": {
  "kernelspec": {
   "display_name": "Python 3",
   "language": "python",
   "name": "python3"
  },
  "language_info": {
   "codemirror_mode": {
    "name": "ipython",
    "version": 3
   },
   "file_extension": ".py",
   "mimetype": "text/x-python",
   "name": "python",
   "nbconvert_exporter": "python",
   "pygments_lexer": "ipython3",
   "version": "3.11.7"
  }
 },
 "nbformat": 4,
 "nbformat_minor": 2
}
