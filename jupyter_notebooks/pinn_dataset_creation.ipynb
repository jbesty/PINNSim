{
 "cells": [
  {
   "cell_type": "markdown",
   "metadata": {},
   "source": [
    "# Dataset creation for PINN training\n",
    "\n",
    "In this notebook, we create the datasets that are necessary to train the component PINNs. The following steps mimic `generate_dataset()` in `pinnsim.dataset_functions.dataset_generation` which can be called directly with a config file as we show at the end of this notebook. The simulated datasets will be stored in the `data.learning_data` folder."
   ]
  },
  {
   "cell_type": "markdown",
   "metadata": {},
   "source": [
    "### Imports"
   ]
  },
  {
   "cell_type": "code",
   "execution_count": 1,
   "metadata": {},
   "outputs": [
    {
     "name": "stderr",
     "output_type": "stream",
     "text": [
      "Could not find GLIMDA.\n"
     ]
    }
   ],
   "source": [
    "import torch\n",
    "\n",
    "from pinnsim.dataset_functions.dataset_generation import sample_dataset\n",
    "from pinnsim.dataset_functions.dataset_generation import generate_dataset\n",
    "from pinnsim.configurations.dataset_config import define_dataset_config\n",
    "\n",
    "\n",
    "from pinnsim.numerics import PredictorODE\n",
    "from pinnsim.power_system_models import VoltageProfilePolynomial, GeneratorModel"
   ]
  },
  {
   "cell_type": "markdown",
   "metadata": {},
   "source": [
    "#### Dataset configurations\n",
    "\n",
    "To retain a trackable account of how the datasets are generated, we specify dataset config files. This include the id of the generator, the type of dataset and optionally a seed for the random processes. In `define_dataset_config`, the sampling approaches of the time variable $t$, the initial condition $x_0$ and the voltage parametrisations $\\Xi$ are set."
   ]
  },
  {
   "cell_type": "code",
   "execution_count": 2,
   "metadata": {},
   "outputs": [],
   "source": [
    "dataset_config = define_dataset_config(dataset_type=\"train\", generator_id=\"ieee9_1\", seed=192444352)"
   ]
  },
  {
   "cell_type": "markdown",
   "metadata": {},
   "source": [
    "### Sampling process\n",
    "\n",
    "Based on the config file (we adjust the number of points to keep the example dataset small), `sample_dataset` will randomly sample all relevant input variables according to the specified sampling strategies."
   ]
  },
  {
   "cell_type": "code",
   "execution_count": 3,
   "metadata": {},
   "outputs": [],
   "source": [
    "dataset_config[\"n_operating_points\"] = 100\n",
    "dataset = sample_dataset(dataset_config=dataset_config)"
   ]
  },
  {
   "cell_type": "markdown",
   "metadata": {},
   "source": [
    "### Dataset simulation\n",
    "\n",
    "The above sampling is quick to execute, the following step is more time consuming as we need to simulate the trajectory for each of the data points and retain the value at the given time $t$. To this end, we use an ODE solver (see `PredictorODE`) which takes a component model (`GeneratorModel`) and a voltage profile as inputs. The latter is used to transform the voltage parametrisation values $\\Xi$ into a complex voltage $\\bar{v}(t) = V(t) \\exp(j\\theta(t))$ given a time value $t$. For later use, we also store the values of $V$ and $\\theta$ along with the state result $x(t)$ in the dataset."
   ]
  },
  {
   "cell_type": "code",
   "execution_count": 4,
   "metadata": {},
   "outputs": [
    {
     "name": "stdout",
     "output_type": "stream",
     "text": [
      "tensor([[ 1.0560e+00,  0.0000e+00, -2.4483e+00,  1.4912e-02],\n",
      "        [ 1.0560e+00,  0.0000e+00, -7.5898e-01, -9.4167e-03],\n",
      "        [ 1.0560e+00,  0.0000e+00, -1.3451e+00,  9.0891e-03],\n",
      "        [ 1.0560e+00,  0.0000e+00, -6.0950e-01,  6.2388e-03],\n",
      "        [ 1.0560e+00,  0.0000e+00,  1.1190e+00,  1.1468e-03],\n",
      "        [ 1.0560e+00,  0.0000e+00, -2.3844e+00,  9.5353e-03],\n",
      "        [ 1.0560e+00,  0.0000e+00, -2.1311e-02,  3.8575e-03],\n",
      "        [ 1.0560e+00,  0.0000e+00,  1.0136e+00, -4.3222e-03],\n",
      "        [ 1.0560e+00,  0.0000e+00,  3.0993e+00, -4.4377e-03],\n",
      "        [ 1.0560e+00,  0.0000e+00, -1.5956e+00, -9.5151e-03],\n",
      "        [ 1.0560e+00,  0.0000e+00, -2.1884e+00, -5.9126e-03],\n",
      "        [ 1.0560e+00,  0.0000e+00,  2.6418e+00, -4.4578e-03],\n",
      "        [ 1.0560e+00,  0.0000e+00,  8.9996e-01,  2.9204e-04],\n",
      "        [ 1.0560e+00,  0.0000e+00, -5.4588e-03, -8.3675e-03],\n",
      "        [ 1.0560e+00,  0.0000e+00, -2.0531e+00,  6.6959e-03],\n",
      "        [ 1.0560e+00,  0.0000e+00, -3.2084e+00,  4.2540e-03],\n",
      "        [ 1.0560e+00,  0.0000e+00, -2.4198e+00,  1.2757e-02],\n",
      "        [ 1.0560e+00,  0.0000e+00,  2.6062e+00, -2.8694e-03],\n",
      "        [ 1.0560e+00,  0.0000e+00, -5.2330e-01, -5.8084e-03],\n",
      "        [ 1.0560e+00,  0.0000e+00,  3.1928e+00,  5.0638e-04],\n",
      "        [ 1.0560e+00,  0.0000e+00, -1.5884e-01,  3.4481e-03],\n",
      "        [ 1.0560e+00,  0.0000e+00, -9.1105e-02, -6.7350e-03],\n",
      "        [ 1.0560e+00,  0.0000e+00,  8.1135e-01, -1.1548e-02],\n",
      "        [ 1.0560e+00,  0.0000e+00,  7.6302e-01,  9.8537e-04],\n",
      "        [ 1.0560e+00,  0.0000e+00,  1.2677e+00,  2.9123e-03],\n",
      "        [ 1.0560e+00,  0.0000e+00, -4.0639e-01,  4.0258e-03],\n",
      "        [ 1.0560e+00,  0.0000e+00,  2.2269e-01, -4.0272e-03],\n",
      "        [ 1.0560e+00,  0.0000e+00,  7.5475e-01,  6.6174e-03],\n",
      "        [ 1.0560e+00,  0.0000e+00,  7.3542e-03, -5.0645e-03],\n",
      "        [ 1.0560e+00,  0.0000e+00, -8.6805e-01, -1.2193e-02],\n",
      "        [ 1.0560e+00,  0.0000e+00, -7.1884e-02,  9.5564e-03],\n",
      "        [ 1.0560e+00,  0.0000e+00, -1.7495e+00, -1.0517e-02],\n",
      "        [ 1.0560e+00,  0.0000e+00, -1.6982e+00,  8.9121e-03],\n",
      "        [ 1.0560e+00,  0.0000e+00, -1.8427e+00, -1.0084e-02],\n",
      "        [ 1.0560e+00,  0.0000e+00,  7.9339e-01, -5.9578e-03],\n",
      "        [ 1.0560e+00,  0.0000e+00, -1.0969e+00,  1.3981e-02],\n",
      "        [ 1.0560e+00,  0.0000e+00, -2.6144e-01,  9.0092e-03],\n",
      "        [ 1.0560e+00,  0.0000e+00, -1.6647e+00, -9.6387e-04],\n",
      "        [ 1.0560e+00,  0.0000e+00,  2.7728e+00, -3.6638e-04],\n",
      "        [ 1.0560e+00,  0.0000e+00,  3.1820e+00, -3.6648e-03],\n",
      "        [ 1.0560e+00,  0.0000e+00,  3.5718e-01,  1.1179e-02],\n",
      "        [ 1.0560e+00,  0.0000e+00, -2.3070e+00, -6.5213e-03],\n",
      "        [ 1.0560e+00,  0.0000e+00, -7.4136e-01, -2.1584e-03],\n",
      "        [ 1.0560e+00,  0.0000e+00, -6.2052e-01,  3.9939e-05],\n",
      "        [ 1.0560e+00,  0.0000e+00,  8.1128e-01,  7.3061e-03],\n",
      "        [ 1.0560e+00,  0.0000e+00, -1.1392e+00,  8.6855e-03],\n",
      "        [ 1.0560e+00,  0.0000e+00, -7.9974e-01,  3.1099e-03],\n",
      "        [ 1.0560e+00,  0.0000e+00,  8.2599e-01, -8.1987e-03],\n",
      "        [ 1.0560e+00,  0.0000e+00, -2.7053e+00, -7.5397e-03],\n",
      "        [ 1.0560e+00,  0.0000e+00, -2.5823e+00, -3.6603e-03],\n",
      "        [ 1.0560e+00,  0.0000e+00,  6.6590e-01,  8.2342e-03],\n",
      "        [ 1.0560e+00,  0.0000e+00,  1.2719e+00,  1.8806e-03],\n",
      "        [ 1.0560e+00,  0.0000e+00,  3.5362e-01, -8.4847e-03],\n",
      "        [ 1.0560e+00,  0.0000e+00, -2.1830e+00,  1.1030e-02],\n",
      "        [ 1.0560e+00,  0.0000e+00,  1.8429e+00, -9.0509e-03],\n",
      "        [ 1.0560e+00,  0.0000e+00,  3.0033e+00,  1.0535e-02],\n",
      "        [ 1.0560e+00,  0.0000e+00,  1.4483e-02, -1.0513e-02],\n",
      "        [ 1.0560e+00,  0.0000e+00,  8.0149e-01, -8.4534e-03],\n",
      "        [ 1.0560e+00,  0.0000e+00,  1.3933e+00,  9.7814e-03],\n",
      "        [ 1.0560e+00,  0.0000e+00, -2.7210e+00,  5.5685e-03],\n",
      "        [ 1.0560e+00,  0.0000e+00,  2.5846e+00, -2.6623e-03],\n",
      "        [ 1.0560e+00,  0.0000e+00, -1.4372e+00, -4.8135e-03],\n",
      "        [ 1.0560e+00,  0.0000e+00,  2.5473e+00,  9.3742e-03],\n",
      "        [ 1.0560e+00,  0.0000e+00, -1.9172e+00,  8.2416e-03],\n",
      "        [ 1.0560e+00,  0.0000e+00, -1.7940e+00, -1.5278e-03],\n",
      "        [ 1.0560e+00,  0.0000e+00,  1.4345e-01,  1.1418e-02],\n",
      "        [ 1.0560e+00,  0.0000e+00, -2.7295e+00,  1.8349e-03],\n",
      "        [ 1.0560e+00,  0.0000e+00,  2.3754e+00, -1.2364e-02],\n",
      "        [ 1.0560e+00,  0.0000e+00, -8.4943e-01, -9.9756e-04],\n",
      "        [ 1.0560e+00,  0.0000e+00, -8.7515e-02, -7.6312e-03],\n",
      "        [ 1.0560e+00,  0.0000e+00,  1.7495e-01, -1.7729e-02],\n",
      "        [ 1.0560e+00,  0.0000e+00,  2.4694e+00,  4.0768e-04],\n",
      "        [ 1.0560e+00,  0.0000e+00,  9.1336e-01, -9.1105e-03],\n",
      "        [ 1.0560e+00,  0.0000e+00, -3.9216e-01,  4.4423e-03],\n",
      "        [ 1.0560e+00,  0.0000e+00, -2.9141e+00, -2.5120e-03],\n",
      "        [ 1.0560e+00,  0.0000e+00, -7.3822e-01,  3.1681e-03],\n",
      "        [ 1.0560e+00,  0.0000e+00,  2.0003e+00, -6.1489e-03],\n",
      "        [ 1.0560e+00,  0.0000e+00,  3.0245e-01, -2.5638e-03],\n",
      "        [ 1.0560e+00,  0.0000e+00, -6.3295e-01,  3.9880e-03],\n",
      "        [ 1.0560e+00,  0.0000e+00,  1.4801e+00,  8.9894e-03],\n",
      "        [ 1.0560e+00,  0.0000e+00, -1.5277e+00, -2.6847e-03],\n",
      "        [ 1.0560e+00,  0.0000e+00,  3.0868e+00, -9.3556e-03],\n",
      "        [ 1.0560e+00,  0.0000e+00,  1.6446e+00, -3.6756e-03],\n",
      "        [ 1.0560e+00,  0.0000e+00,  1.6583e+00, -1.2133e-02],\n",
      "        [ 1.0560e+00,  0.0000e+00,  1.1867e-01, -6.9877e-03],\n",
      "        [ 1.0560e+00,  0.0000e+00, -1.8755e-01, -5.4855e-03],\n",
      "        [ 1.0560e+00,  0.0000e+00,  5.2558e-01, -6.6104e-03],\n",
      "        [ 1.0560e+00,  0.0000e+00,  1.4880e+00,  9.6652e-03],\n",
      "        [ 1.0560e+00,  0.0000e+00, -9.7325e-01, -3.2334e-03],\n",
      "        [ 1.0560e+00,  0.0000e+00,  1.9837e+00,  6.9041e-03],\n",
      "        [ 1.0560e+00,  0.0000e+00,  3.3725e-02,  1.5468e-04],\n",
      "        [ 1.0560e+00,  0.0000e+00, -2.9213e+00,  3.5675e-03],\n",
      "        [ 1.0560e+00,  0.0000e+00,  7.6738e-01, -3.0526e-03],\n",
      "        [ 1.0560e+00,  0.0000e+00, -2.6765e-01,  9.5541e-03],\n",
      "        [ 1.0560e+00,  0.0000e+00,  9.5879e-01, -7.5293e-03],\n",
      "        [ 1.0560e+00,  0.0000e+00, -1.7858e+00,  5.0978e-03],\n",
      "        [ 1.0560e+00,  0.0000e+00,  1.0052e+00, -7.0211e-03],\n",
      "        [ 1.0560e+00,  0.0000e+00,  2.1834e+00, -4.7900e-03],\n",
      "        [ 1.0560e+00,  0.0000e+00,  1.3388e+00, -1.4336e-04],\n",
      "        [ 1.0560e+00,  0.0000e+00,  1.0586e+00,  6.5123e-03]])\n"
     ]
    }
   ],
   "source": [
    "generator = GeneratorModel(\n",
    "        generator_config=dataset[\"generator_config\"]\n",
    "    )\n",
    "voltage_profile = VoltageProfilePolynomial(order_polynomial=2)\n",
    "\n",
    "simulator = PredictorODE(component=generator, voltage_profile=voltage_profile)\n",
    "\n",
    "time_extended = torch.hstack([dataset[\"time\"] * 0.0, dataset[\"time\"]])\n",
    "\n",
    "\n",
    "# actual simulation\n",
    "with torch.no_grad():\n",
    "    state_results = torch.vstack(\n",
    "        [\n",
    "            simulator.predict_state(\n",
    "                time=time_extended[ii : ii + 1, :].reshape((-1, 1)),\n",
    "                state=dataset[\"state_initial\"][ii : ii + 1, :],\n",
    "                control_input=dataset[\"control_input\"][ii : ii + 1, :],\n",
    "                voltage_parametrisation=dataset[\"voltage_parametrisation\"][\n",
    "                    ii : ii + 1, :\n",
    "                ],\n",
    "            )[1:, :]\n",
    "            for ii in range(dataset[\"time\"].shape[0])\n",
    "        ]\n",
    "    )\n",
    "\n",
    "theta, V = voltage_profile.get_voltage(\n",
    "    time=dataset[\"time\"], voltage_parametrisation=dataset[\"voltage_parametrisation\"]\n",
    ") \n",
    "\n",
    "assert state_results.shape == dataset[\"state_initial\"].shape\n",
    "\n",
    "dataset.update(\n",
    "        {\n",
    "            \"state_result\": state_results,\n",
    "            \"theta_result\": theta,\n",
    "            \"V_result\": V,\n",
    "        }\n",
    "    )\n",
    "\n",
    "print(dataset[\"state_result\"])"
   ]
  },
  {
   "cell_type": "markdown",
   "metadata": {},
   "source": [
    "For the collocation dataset we do not need to run the simulation as we will not require the values of `state_result`. Hence, we simply set those to 0 and update the result values of $V$ and $\\theta$ as they are cheap to evaluate."
   ]
  },
  {
   "cell_type": "code",
   "execution_count": 5,
   "metadata": {},
   "outputs": [],
   "source": [
    "dataset_config_collocation = define_dataset_config(dataset_type=\"collocation\", generator_id=\"ieee9_1\", seed=5648431)\n",
    "dataset_collocation = sample_dataset(dataset_config=dataset_config_collocation)\n",
    "theta_collocation, V_collocation = voltage_profile.get_voltage(\n",
    "    dataset_collocation[\"time\"], dataset_collocation[\"voltage_parametrisation\"]\n",
    ")\n",
    "dataset_collocation.update(\n",
    "    {\n",
    "                \"state_result\": torch.zeros(dataset_collocation[\"state_initial\"].shape),\n",
    "                \"theta_result\": theta_collocation,\n",
    "                \"V_result\": V_collocation,\n",
    "    }\n",
    ")"
   ]
  },
  {
   "cell_type": "markdown",
   "metadata": {},
   "source": [
    "To save any dataset call `pinnsim.dataset_functions.dataset_handling.save_dataset_raw()` and specify the path. As a default we suggest the `data` folder in the project."
   ]
  },
  {
   "cell_type": "markdown",
   "metadata": {},
   "source": [
    "## Datasets needed for training (can take a while ~20 min)\n",
    "\n",
    "The following cell can be run if the various datasets should be simulated for training the PINNs that are needed to run PINNSim on the IEEE 9-bus system. They can be found readily simulated in `data.learning_data`. "
   ]
  },
  {
   "cell_type": "code",
   "execution_count": 6,
   "metadata": {},
   "outputs": [
    {
     "name": "stdout",
     "output_type": "stream",
     "text": [
      "Saved dataset \"train_ieee9_1\".\n",
      "Created and saved dataset train_ieee9_1 in 108.64 s.\n",
      "Saved dataset \"test_ieee9_1\".\n",
      "Created and saved dataset test_ieee9_1 in 179.96 s.\n",
      "Saved dataset \"collocation_ieee9_1\".\n",
      "Created and saved dataset collocation_ieee9_1 in 0.09 s.\n",
      "Saved dataset \"train_ieee9_2\".\n",
      "Created and saved dataset train_ieee9_2 in 148.06 s.\n",
      "Saved dataset \"test_ieee9_2\".\n",
      "Created and saved dataset test_ieee9_2 in 235.21 s.\n",
      "Saved dataset \"collocation_ieee9_2\".\n",
      "Created and saved dataset collocation_ieee9_2 in 0.07 s.\n",
      "Saved dataset \"train_ieee9_3\".\n",
      "Created and saved dataset train_ieee9_3 in 165.99 s.\n",
      "Saved dataset \"test_ieee9_3\".\n",
      "Created and saved dataset test_ieee9_3 in 264.15 s.\n",
      "Saved dataset \"collocation_ieee9_3\".\n",
      "Created and saved dataset collocation_ieee9_3 in 0.07 s.\n"
     ]
    }
   ],
   "source": [
    "import itertools\n",
    "\n",
    "from pinnsim import LEARNING_DATA_PATH\n",
    "\n",
    "seeds = torch.randint(\n",
    "    low=100000,\n",
    "    high=100000000,\n",
    "    size=(9,),\n",
    "    generator=torch.Generator().manual_seed(21643131),\n",
    ").tolist()\n",
    "\n",
    "for seed, (generator_id, dataset_type) in zip(\n",
    "    seeds,\n",
    "    itertools.product(\n",
    "        [\"ieee9_1\", \"ieee9_2\", \"ieee9_3\"], [\"train\", \"test\", \"collocation\"]\n",
    "    ),\n",
    "):\n",
    "    dataset_config = define_dataset_config(\n",
    "        dataset_type=dataset_type, generator_id=generator_id, seed=seed\n",
    "    )\n",
    "    generate_dataset(dataset_config, data_path=LEARNING_DATA_PATH)\n"
   ]
  }
 ],
 "metadata": {
  "kernelspec": {
   "display_name": "Python 3",
   "language": "python",
   "name": "python3"
  },
  "language_info": {
   "codemirror_mode": {
    "name": "ipython",
    "version": 3
   },
   "file_extension": ".py",
   "mimetype": "text/x-python",
   "name": "python",
   "nbconvert_exporter": "python",
   "pygments_lexer": "ipython3",
   "version": "3.11.7"
  }
 },
 "nbformat": 4,
 "nbformat_minor": 2
}
